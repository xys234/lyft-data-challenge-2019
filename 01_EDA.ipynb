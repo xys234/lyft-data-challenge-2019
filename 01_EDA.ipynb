{
 "cells": [
  {
   "cell_type": "code",
   "execution_count": 1,
   "metadata": {},
   "outputs": [],
   "source": [
    "import numpy as np"
   ]
  },
  {
   "cell_type": "code",
   "execution_count": 3,
   "metadata": {},
   "outputs": [],
   "source": [
    "import pandas as pd\n",
    "import matplotlib.pyplot as plt\n",
    "import seaborn as sns\n",
    "import tqdm\n",
    "\n",
    "sns.set_style('whitegrid')\n",
    "%matplotlib inline"
   ]
  },
  {
   "cell_type": "code",
   "execution_count": 4,
   "metadata": {},
   "outputs": [],
   "source": [
    "import os\n",
    "import datetime"
   ]
  },
  {
   "cell_type": "code",
   "execution_count": 7,
   "metadata": {},
   "outputs": [],
   "source": [
    "DATA_FOLDER = r'data'\n",
    "DRIVER_FILE = os.path.join(DATA_FOLDER, 'driver_ids.csv')\n",
    "RIDE_FILE = os.path.join(DATA_FOLDER, 'ride_ids.csv')\n",
    "EVENT_FILE = os.path.join(DATA_FOLDER, 'ride_timestamps.csv')"
   ]
  },
  {
   "cell_type": "markdown",
   "metadata": {},
   "source": [
    "#### Fare Assumptions"
   ]
  },
  {
   "cell_type": "code",
   "execution_count": 67,
   "metadata": {},
   "outputs": [],
   "source": [
    "BASE_FARE = 2.00\n",
    "COST_PER_MILE = 1.15\n",
    "COST_PER_MINUTE = 0.22\n",
    "SERVICE_FEE = 1.75\n",
    "MINIMUM_FARE = 5.00\n",
    "MAXIMUM_FARE = 400.00\n",
    "\n",
    "COST_PER_METER = COST_PER_MILE / 1609.34\n",
    "COST_PER_SECOND = COST_PER_MINUTE / 60.0\n",
    "\n",
    "PRIME_SURCHARGE = 0.2"
   ]
  },
  {
   "cell_type": "markdown",
   "metadata": {},
   "source": [
    "#### Load the Data"
   ]
  },
  {
   "cell_type": "code",
   "execution_count": 82,
   "metadata": {},
   "outputs": [],
   "source": [
    "df_driver = pd.read_csv(DRIVER_FILE)\n",
    "df_ride = pd.read_csv(RIDE_FILE)\n",
    "df_event = pd.read_csv(EVENT_FILE)"
   ]
  },
  {
   "cell_type": "code",
   "execution_count": 83,
   "metadata": {},
   "outputs": [
    {
     "name": "stdout",
     "output_type": "stream",
     "text": [
      "<class 'pandas.core.frame.DataFrame'>\n",
      "RangeIndex: 937 entries, 0 to 936\n",
      "Data columns (total 2 columns):\n",
      "driver_id              937 non-null object\n",
      "driver_onboard_date    937 non-null object\n",
      "dtypes: object(2)\n",
      "memory usage: 14.7+ KB\n"
     ]
    }
   ],
   "source": [
    "df_driver.info()"
   ]
  },
  {
   "cell_type": "code",
   "execution_count": 84,
   "metadata": {},
   "outputs": [
    {
     "data": {
      "text/html": [
       "<div>\n",
       "<style scoped>\n",
       "    .dataframe tbody tr th:only-of-type {\n",
       "        vertical-align: middle;\n",
       "    }\n",
       "\n",
       "    .dataframe tbody tr th {\n",
       "        vertical-align: top;\n",
       "    }\n",
       "\n",
       "    .dataframe thead th {\n",
       "        text-align: right;\n",
       "    }\n",
       "</style>\n",
       "<table border=\"1\" class=\"dataframe\">\n",
       "  <thead>\n",
       "    <tr style=\"text-align: right;\">\n",
       "      <th></th>\n",
       "      <th>driver_id</th>\n",
       "      <th>driver_onboard_date</th>\n",
       "    </tr>\n",
       "  </thead>\n",
       "  <tbody>\n",
       "    <tr>\n",
       "      <th>0</th>\n",
       "      <td>002be0ffdc997bd5c50703158b7c2491</td>\n",
       "      <td>2016-03-29 00:00:00</td>\n",
       "    </tr>\n",
       "    <tr>\n",
       "      <th>1</th>\n",
       "      <td>007f0389f9c7b03ef97098422f902e62</td>\n",
       "      <td>2016-03-29 00:00:00</td>\n",
       "    </tr>\n",
       "    <tr>\n",
       "      <th>2</th>\n",
       "      <td>011e5c5dfc5c2c92501b8b24d47509bc</td>\n",
       "      <td>2016-04-05 00:00:00</td>\n",
       "    </tr>\n",
       "    <tr>\n",
       "      <th>3</th>\n",
       "      <td>0152a2f305e71d26cc964f8d4411add9</td>\n",
       "      <td>2016-04-23 00:00:00</td>\n",
       "    </tr>\n",
       "    <tr>\n",
       "      <th>4</th>\n",
       "      <td>01674381af7edd264113d4e6ed55ecda</td>\n",
       "      <td>2016-04-29 00:00:00</td>\n",
       "    </tr>\n",
       "  </tbody>\n",
       "</table>\n",
       "</div>"
      ],
      "text/plain": [
       "                          driver_id  driver_onboard_date\n",
       "0  002be0ffdc997bd5c50703158b7c2491  2016-03-29 00:00:00\n",
       "1  007f0389f9c7b03ef97098422f902e62  2016-03-29 00:00:00\n",
       "2  011e5c5dfc5c2c92501b8b24d47509bc  2016-04-05 00:00:00\n",
       "3  0152a2f305e71d26cc964f8d4411add9  2016-04-23 00:00:00\n",
       "4  01674381af7edd264113d4e6ed55ecda  2016-04-29 00:00:00"
      ]
     },
     "execution_count": 84,
     "metadata": {},
     "output_type": "execute_result"
    }
   ],
   "source": [
    "df_driver.head()"
   ]
  },
  {
   "cell_type": "code",
   "execution_count": 85,
   "metadata": {},
   "outputs": [
    {
     "name": "stdout",
     "output_type": "stream",
     "text": [
      "<class 'pandas.core.frame.DataFrame'>\n",
      "RangeIndex: 193502 entries, 0 to 193501\n",
      "Data columns (total 5 columns):\n",
      "driver_id          193502 non-null object\n",
      "ride_id            193502 non-null object\n",
      "ride_distance      193502 non-null int64\n",
      "ride_duration      193502 non-null int64\n",
      "ride_prime_time    193502 non-null int64\n",
      "dtypes: int64(3), object(2)\n",
      "memory usage: 7.4+ MB\n"
     ]
    }
   ],
   "source": [
    "df_ride.info()"
   ]
  },
  {
   "cell_type": "code",
   "execution_count": 86,
   "metadata": {},
   "outputs": [
    {
     "name": "stdout",
     "output_type": "stream",
     "text": [
      "<class 'pandas.core.frame.DataFrame'>\n",
      "RangeIndex: 970405 entries, 0 to 970404\n",
      "Data columns (total 3 columns):\n",
      "ride_id      970405 non-null object\n",
      "event        970405 non-null object\n",
      "timestamp    970404 non-null object\n",
      "dtypes: object(3)\n",
      "memory usage: 22.2+ MB\n"
     ]
    }
   ],
   "source": [
    "df_event.info()"
   ]
  },
  {
   "cell_type": "code",
   "execution_count": 87,
   "metadata": {},
   "outputs": [
    {
     "data": {
      "text/html": [
       "<div>\n",
       "<style scoped>\n",
       "    .dataframe tbody tr th:only-of-type {\n",
       "        vertical-align: middle;\n",
       "    }\n",
       "\n",
       "    .dataframe tbody tr th {\n",
       "        vertical-align: top;\n",
       "    }\n",
       "\n",
       "    .dataframe thead th {\n",
       "        text-align: right;\n",
       "    }\n",
       "</style>\n",
       "<table border=\"1\" class=\"dataframe\">\n",
       "  <thead>\n",
       "    <tr style=\"text-align: right;\">\n",
       "      <th></th>\n",
       "      <th>ride_id</th>\n",
       "      <th>event</th>\n",
       "      <th>timestamp</th>\n",
       "    </tr>\n",
       "  </thead>\n",
       "  <tbody>\n",
       "    <tr>\n",
       "      <th>0</th>\n",
       "      <td>00003037a262d9ee40e61b5c0718f7f0</td>\n",
       "      <td>requested_at</td>\n",
       "      <td>2016-06-13 09:39:19</td>\n",
       "    </tr>\n",
       "    <tr>\n",
       "      <th>1</th>\n",
       "      <td>00003037a262d9ee40e61b5c0718f7f0</td>\n",
       "      <td>accepted_at</td>\n",
       "      <td>2016-06-13 09:39:51</td>\n",
       "    </tr>\n",
       "    <tr>\n",
       "      <th>2</th>\n",
       "      <td>00003037a262d9ee40e61b5c0718f7f0</td>\n",
       "      <td>arrived_at</td>\n",
       "      <td>2016-06-13 09:44:31</td>\n",
       "    </tr>\n",
       "    <tr>\n",
       "      <th>3</th>\n",
       "      <td>00003037a262d9ee40e61b5c0718f7f0</td>\n",
       "      <td>picked_up_at</td>\n",
       "      <td>2016-06-13 09:44:33</td>\n",
       "    </tr>\n",
       "    <tr>\n",
       "      <th>4</th>\n",
       "      <td>00003037a262d9ee40e61b5c0718f7f0</td>\n",
       "      <td>dropped_off_at</td>\n",
       "      <td>2016-06-13 10:03:05</td>\n",
       "    </tr>\n",
       "  </tbody>\n",
       "</table>\n",
       "</div>"
      ],
      "text/plain": [
       "                            ride_id           event            timestamp\n",
       "0  00003037a262d9ee40e61b5c0718f7f0    requested_at  2016-06-13 09:39:19\n",
       "1  00003037a262d9ee40e61b5c0718f7f0     accepted_at  2016-06-13 09:39:51\n",
       "2  00003037a262d9ee40e61b5c0718f7f0      arrived_at  2016-06-13 09:44:31\n",
       "3  00003037a262d9ee40e61b5c0718f7f0    picked_up_at  2016-06-13 09:44:33\n",
       "4  00003037a262d9ee40e61b5c0718f7f0  dropped_off_at  2016-06-13 10:03:05"
      ]
     },
     "execution_count": 87,
     "metadata": {},
     "output_type": "execute_result"
    }
   ],
   "source": [
    "df_event.head()"
   ]
  },
  {
   "cell_type": "markdown",
   "metadata": {},
   "source": [
    "#### Data Transformation and Cleaning"
   ]
  },
  {
   "cell_type": "code",
   "execution_count": 88,
   "metadata": {},
   "outputs": [],
   "source": [
    "df_driver['driver_onboard_date'] = pd.to_datetime(df_driver.driver_onboard_date, infer_datetime_format=True, utc=True)"
   ]
  },
  {
   "cell_type": "code",
   "execution_count": 89,
   "metadata": {},
   "outputs": [],
   "source": [
    "df_event['timestamp'] = pd.to_datetime(df_event.timestamp, infer_datetime_format=True, utc=True)"
   ]
  },
  {
   "cell_type": "code",
   "execution_count": 90,
   "metadata": {},
   "outputs": [
    {
     "data": {
      "text/html": [
       "<div>\n",
       "<style scoped>\n",
       "    .dataframe tbody tr th:only-of-type {\n",
       "        vertical-align: middle;\n",
       "    }\n",
       "\n",
       "    .dataframe tbody tr th {\n",
       "        vertical-align: top;\n",
       "    }\n",
       "\n",
       "    .dataframe thead th {\n",
       "        text-align: right;\n",
       "    }\n",
       "</style>\n",
       "<table border=\"1\" class=\"dataframe\">\n",
       "  <thead>\n",
       "    <tr style=\"text-align: right;\">\n",
       "      <th></th>\n",
       "      <th>ride_distance</th>\n",
       "      <th>ride_duration</th>\n",
       "      <th>ride_prime_time</th>\n",
       "    </tr>\n",
       "  </thead>\n",
       "  <tbody>\n",
       "    <tr>\n",
       "      <th>count</th>\n",
       "      <td>193502.000000</td>\n",
       "      <td>193502.000000</td>\n",
       "      <td>193502.000000</td>\n",
       "    </tr>\n",
       "    <tr>\n",
       "      <th>mean</th>\n",
       "      <td>6955.218266</td>\n",
       "      <td>858.966099</td>\n",
       "      <td>17.305893</td>\n",
       "    </tr>\n",
       "    <tr>\n",
       "      <th>std</th>\n",
       "      <td>8929.444606</td>\n",
       "      <td>571.375818</td>\n",
       "      <td>30.825800</td>\n",
       "    </tr>\n",
       "    <tr>\n",
       "      <th>min</th>\n",
       "      <td>-2.000000</td>\n",
       "      <td>2.000000</td>\n",
       "      <td>0.000000</td>\n",
       "    </tr>\n",
       "    <tr>\n",
       "      <th>25%</th>\n",
       "      <td>2459.000000</td>\n",
       "      <td>491.000000</td>\n",
       "      <td>0.000000</td>\n",
       "    </tr>\n",
       "    <tr>\n",
       "      <th>50%</th>\n",
       "      <td>4015.000000</td>\n",
       "      <td>727.000000</td>\n",
       "      <td>0.000000</td>\n",
       "    </tr>\n",
       "    <tr>\n",
       "      <th>75%</th>\n",
       "      <td>7193.000000</td>\n",
       "      <td>1069.000000</td>\n",
       "      <td>25.000000</td>\n",
       "    </tr>\n",
       "    <tr>\n",
       "      <th>max</th>\n",
       "      <td>724679.000000</td>\n",
       "      <td>28204.000000</td>\n",
       "      <td>500.000000</td>\n",
       "    </tr>\n",
       "  </tbody>\n",
       "</table>\n",
       "</div>"
      ],
      "text/plain": [
       "       ride_distance  ride_duration  ride_prime_time\n",
       "count  193502.000000  193502.000000    193502.000000\n",
       "mean     6955.218266     858.966099        17.305893\n",
       "std      8929.444606     571.375818        30.825800\n",
       "min        -2.000000       2.000000         0.000000\n",
       "25%      2459.000000     491.000000         0.000000\n",
       "50%      4015.000000     727.000000         0.000000\n",
       "75%      7193.000000    1069.000000        25.000000\n",
       "max    724679.000000   28204.000000       500.000000"
      ]
     },
     "execution_count": 90,
     "metadata": {},
     "output_type": "execute_result"
    }
   ],
   "source": [
    "df_ride.describe()"
   ]
  },
  {
   "cell_type": "code",
   "execution_count": 91,
   "metadata": {},
   "outputs": [
    {
     "data": {
      "text/plain": [
       "driver_id          02d6a6b8a6da15fc219a9570f7ebbe78\n",
       "ride_id            e7f8524051edb7b28e86391f6461bc03\n",
       "ride_distance                                724679\n",
       "ride_duration                                 28204\n",
       "ride_prime_time                                   0\n",
       "Name: 1921, dtype: object"
      ]
     },
     "execution_count": 91,
     "metadata": {},
     "output_type": "execute_result"
    }
   ],
   "source": [
    "df_ride.iloc[df_ride.ride_duration.idxmax()]"
   ]
  },
  {
   "cell_type": "markdown",
   "metadata": {},
   "source": [
    "#### EDA"
   ]
  },
  {
   "cell_type": "markdown",
   "metadata": {},
   "source": [
    "##### For each driver, how many rides did they complete?"
   ]
  },
  {
   "cell_type": "code",
   "execution_count": 92,
   "metadata": {},
   "outputs": [],
   "source": [
    "df_driver_features = df_driver.copy()"
   ]
  },
  {
   "cell_type": "code",
   "execution_count": 93,
   "metadata": {},
   "outputs": [],
   "source": [
    "df_driver_features.set_index('driver_id', inplace=True)\n",
    "df_driver_features['rides'] = df_ride.groupby('driver_id')['ride_id'].count().rename(columns={'ride_id':'rides'})"
   ]
  },
  {
   "cell_type": "code",
   "execution_count": 94,
   "metadata": {},
   "outputs": [],
   "source": [
    "df_driver_features['rides'].fillna(0, inplace=True)"
   ]
  },
  {
   "cell_type": "code",
   "execution_count": 95,
   "metadata": {},
   "outputs": [
    {
     "data": {
      "text/html": [
       "<div>\n",
       "<style scoped>\n",
       "    .dataframe tbody tr th:only-of-type {\n",
       "        vertical-align: middle;\n",
       "    }\n",
       "\n",
       "    .dataframe tbody tr th {\n",
       "        vertical-align: top;\n",
       "    }\n",
       "\n",
       "    .dataframe thead th {\n",
       "        text-align: right;\n",
       "    }\n",
       "</style>\n",
       "<table border=\"1\" class=\"dataframe\">\n",
       "  <thead>\n",
       "    <tr style=\"text-align: right;\">\n",
       "      <th></th>\n",
       "      <th>rides</th>\n",
       "    </tr>\n",
       "  </thead>\n",
       "  <tbody>\n",
       "    <tr>\n",
       "      <th>count</th>\n",
       "      <td>937.000000</td>\n",
       "    </tr>\n",
       "    <tr>\n",
       "      <th>mean</th>\n",
       "      <td>198.389541</td>\n",
       "    </tr>\n",
       "    <tr>\n",
       "      <th>std</th>\n",
       "      <td>180.197182</td>\n",
       "    </tr>\n",
       "    <tr>\n",
       "      <th>min</th>\n",
       "      <td>0.000000</td>\n",
       "    </tr>\n",
       "    <tr>\n",
       "      <th>25%</th>\n",
       "      <td>39.000000</td>\n",
       "    </tr>\n",
       "    <tr>\n",
       "      <th>50%</th>\n",
       "      <td>200.000000</td>\n",
       "    </tr>\n",
       "    <tr>\n",
       "      <th>75%</th>\n",
       "      <td>316.000000</td>\n",
       "    </tr>\n",
       "    <tr>\n",
       "      <th>max</th>\n",
       "      <td>919.000000</td>\n",
       "    </tr>\n",
       "  </tbody>\n",
       "</table>\n",
       "</div>"
      ],
      "text/plain": [
       "            rides\n",
       "count  937.000000\n",
       "mean   198.389541\n",
       "std    180.197182\n",
       "min      0.000000\n",
       "25%     39.000000\n",
       "50%    200.000000\n",
       "75%    316.000000\n",
       "max    919.000000"
      ]
     },
     "execution_count": 95,
     "metadata": {},
     "output_type": "execute_result"
    }
   ],
   "source": [
    "df_driver_features.describe()"
   ]
  },
  {
   "cell_type": "code",
   "execution_count": 96,
   "metadata": {},
   "outputs": [
    {
     "data": {
      "text/plain": [
       "<matplotlib.axes._subplots.AxesSubplot at 0x2c6f5ef14a8>"
      ]
     },
     "execution_count": 96,
     "metadata": {},
     "output_type": "execute_result"
    },
    {
     "data": {
      "image/png": "[encoded data removed]",
      "text/plain": [
       "<Figure size 432x288 with 1 Axes>"
      ]
     },
     "metadata": {
      "needs_background": "light"
     },
     "output_type": "display_data"
    }
   ],
   "source": [
    "sns.distplot(df_driver_features.loc[df_driver_features.rides>0, 'rides'])"
   ]
  },
  {
   "cell_type": "markdown",
   "metadata": {},
   "source": [
    "#### Compute the fare for each ride"
   ]
  },
  {
   "cell_type": "code",
   "execution_count": 97,
   "metadata": {},
   "outputs": [],
   "source": [
    "def fare(df):\n",
    "    f = BASE_FARE + df.ride_distance * COST_PER_METER + df.ride_duration*COST_PER_SECOND + df.ride_prime_time*PRIME_SURCHARGE + SERVICE_FEE\n",
    "    df['fare'] = np.minimum(np.maximum(MINIMUM_FARE, f), MAXIMUM_FARE)"
   ]
  },
  {
   "cell_type": "code",
   "execution_count": 98,
   "metadata": {},
   "outputs": [],
   "source": [
    "fare(df_ride)"
   ]
  },
  {
   "cell_type": "code",
   "execution_count": 99,
   "metadata": {},
   "outputs": [
    {
     "data": {
      "image/png": "[encoded data removed]",
      "text/plain": [
       "<Figure size 864x576 with 1 Axes>"
      ]
     },
     "metadata": {
      "needs_background": "light"
     },
     "output_type": "display_data"
    }
   ],
   "source": [
    "fig, ax = plt.subplots(figsize=(12,8))\n",
    "ax = sns.distplot(df_ride.fare, ax=ax)"
   ]
  },
  {
   "cell_type": "code",
   "execution_count": 100,
   "metadata": {},
   "outputs": [],
   "source": [
    "df_driver_features['total_fare'] = df_ride.groupby('driver_id')['fare'].sum()\n",
    "df_driver_features['total_fare'].fillna(0, inplace=True)"
   ]
  },
  {
   "cell_type": "code",
   "execution_count": 101,
   "metadata": {},
   "outputs": [
    {
     "data": {
      "image/png": "[encoded data removed]",
      "text/plain": [
       "<Figure size 864x576 with 1 Axes>"
      ]
     },
     "metadata": {
      "needs_background": "light"
     },
     "output_type": "display_data"
    }
   ],
   "source": [
    "fig, ax = plt.subplots(figsize=(12,8))\n",
    "ax = sns.distplot(df_driver_features.loc[df_driver_features.rides>0, 'total_fare'], ax=ax)"
   ]
  },
  {
   "cell_type": "code",
   "execution_count": 102,
   "metadata": {},
   "outputs": [
    {
     "data": {
      "text/plain": [
       "count      854.000000\n",
       "mean      3337.784374\n",
       "std       2747.048895\n",
       "min         25.691325\n",
       "25%        684.329135\n",
       "50%       3324.648226\n",
       "75%       5031.578018\n",
       "max      14061.226649\n",
       "Name: total_fare, dtype: float64"
      ]
     },
     "execution_count": 102,
     "metadata": {},
     "output_type": "execute_result"
    }
   ],
   "source": [
    "df_driver_features.loc[df_driver_features.rides>0, 'total_fare'].describe()"
   ]
  },
  {
   "cell_type": "markdown",
   "metadata": {},
   "source": [
    "#### What is the total active duration of each driver? From onboard to the last accepted ride"
   ]
  },
  {
   "cell_type": "code",
   "execution_count": 103,
   "metadata": {},
   "outputs": [
    {
     "data": {
      "text/plain": [
       "(Timestamp('2016-03-28 05:48:18+0000', tz='UTC'),\n",
       " Timestamp('2016-06-27 00:50:50+0000', tz='UTC'))"
      ]
     },
     "execution_count": 103,
     "metadata": {},
     "output_type": "execute_result"
    }
   ],
   "source": [
    "df_event.timestamp.min(), df_event.timestamp.max()"
   ]
  },
  {
   "cell_type": "code",
   "execution_count": 104,
   "metadata": {},
   "outputs": [
    {
     "data": {
      "text/plain": [
       "(Timestamp('2016-03-28 00:00:00+0000', tz='UTC'),\n",
       " Timestamp('2016-05-15 00:00:00+0000', tz='UTC'))"
      ]
     },
     "execution_count": 104,
     "metadata": {},
     "output_type": "execute_result"
    }
   ],
   "source": [
    "df_driver_features.driver_onboard_date.min(), df_driver_features.driver_onboard_date.max()"
   ]
  },
  {
   "cell_type": "code",
   "execution_count": 110,
   "metadata": {},
   "outputs": [
    {
     "data": {
      "text/html": [
       "<div>\n",
       "<style scoped>\n",
       "    .dataframe tbody tr th:only-of-type {\n",
       "        vertical-align: middle;\n",
       "    }\n",
       "\n",
       "    .dataframe tbody tr th {\n",
       "        vertical-align: top;\n",
       "    }\n",
       "\n",
       "    .dataframe thead th {\n",
       "        text-align: right;\n",
       "    }\n",
       "</style>\n",
       "<table border=\"1\" class=\"dataframe\">\n",
       "  <thead>\n",
       "    <tr style=\"text-align: right;\">\n",
       "      <th>event</th>\n",
       "      <th>ride_id</th>\n",
       "      <th>requested_at</th>\n",
       "      <th>accepted_at</th>\n",
       "      <th>arrived_at</th>\n",
       "      <th>picked_up_at</th>\n",
       "      <th>dropped_off_at</th>\n",
       "    </tr>\n",
       "  </thead>\n",
       "  <tbody>\n",
       "    <tr>\n",
       "      <th>0</th>\n",
       "      <td>00003037a262d9ee40e61b5c0718f7f0</td>\n",
       "      <td>2016-06-13 09:39:19</td>\n",
       "      <td>2016-06-13 09:39:51</td>\n",
       "      <td>2016-06-13 09:44:31</td>\n",
       "      <td>2016-06-13 09:44:33</td>\n",
       "      <td>2016-06-13 10:03:05</td>\n",
       "    </tr>\n",
       "    <tr>\n",
       "      <th>1</th>\n",
       "      <td>00005eae40882760d675da5effb89ae3</td>\n",
       "      <td>2016-05-14 05:23:21</td>\n",
       "      <td>2016-05-14 05:23:25</td>\n",
       "      <td>2016-05-14 05:26:17</td>\n",
       "      <td>2016-05-14 05:26:18</td>\n",
       "      <td>2016-05-14 05:34:17</td>\n",
       "    </tr>\n",
       "    <tr>\n",
       "      <th>2</th>\n",
       "      <td>000061d42cf29f73b591041d9a1b2973</td>\n",
       "      <td>2016-05-16 15:43:09</td>\n",
       "      <td>2016-05-16 15:43:14</td>\n",
       "      <td>2016-05-16 15:47:29</td>\n",
       "      <td>2016-05-16 15:47:32</td>\n",
       "      <td>2016-05-16 15:54:18</td>\n",
       "    </tr>\n",
       "    <tr>\n",
       "      <th>3</th>\n",
       "      <td>00006efeb0d5e3ccad7d921ddeee9900</td>\n",
       "      <td>2016-05-11 19:29:36</td>\n",
       "      <td>2016-05-11 19:29:43</td>\n",
       "      <td>2016-05-11 19:35:11</td>\n",
       "      <td>2016-05-11 19:35:15</td>\n",
       "      <td>2016-05-11 19:40:47</td>\n",
       "    </tr>\n",
       "    <tr>\n",
       "      <th>4</th>\n",
       "      <td>0000d9b24d8ccdd991b76258e616fa01</td>\n",
       "      <td>2016-04-26 18:11:38</td>\n",
       "      <td>2016-04-26 18:12:15</td>\n",
       "      <td>2016-04-26 18:16:52</td>\n",
       "      <td>2016-04-26 18:16:55</td>\n",
       "      <td>2016-04-26 18:24:14</td>\n",
       "    </tr>\n",
       "  </tbody>\n",
       "</table>\n",
       "</div>"
      ],
      "text/plain": [
       "event                           ride_id        requested_at  \\\n",
       "0      00003037a262d9ee40e61b5c0718f7f0 2016-06-13 09:39:19   \n",
       "1      00005eae40882760d675da5effb89ae3 2016-05-14 05:23:21   \n",
       "2      000061d42cf29f73b591041d9a1b2973 2016-05-16 15:43:09   \n",
       "3      00006efeb0d5e3ccad7d921ddeee9900 2016-05-11 19:29:36   \n",
       "4      0000d9b24d8ccdd991b76258e616fa01 2016-04-26 18:11:38   \n",
       "\n",
       "event         accepted_at          arrived_at        picked_up_at  \\\n",
       "0     2016-06-13 09:39:51 2016-06-13 09:44:31 2016-06-13 09:44:33   \n",
       "1     2016-05-14 05:23:25 2016-05-14 05:26:17 2016-05-14 05:26:18   \n",
       "2     2016-05-16 15:43:14 2016-05-16 15:47:29 2016-05-16 15:47:32   \n",
       "3     2016-05-11 19:29:43 2016-05-11 19:35:11 2016-05-11 19:35:15   \n",
       "4     2016-04-26 18:12:15 2016-04-26 18:16:52 2016-04-26 18:16:55   \n",
       "\n",
       "event      dropped_off_at  \n",
       "0     2016-06-13 10:03:05  \n",
       "1     2016-05-14 05:34:17  \n",
       "2     2016-05-16 15:54:18  \n",
       "3     2016-05-11 19:40:47  \n",
       "4     2016-04-26 18:24:14  "
      ]
     },
     "execution_count": 110,
     "metadata": {},
     "output_type": "execute_result"
    }
   ],
   "source": [
    "df_event_wide = df_event.pivot(index='ride_id', \n",
    "                               columns='event', values='timestamp').loc[:, ['requested_at', 'accepted_at', \n",
    "                                                                            'arrived_at', 'picked_up_at', \n",
    "                                                                            'dropped_off_at']].reset_index()\n",
    "df_event_wide.head()"
   ]
  },
  {
   "cell_type": "code",
   "execution_count": 122,
   "metadata": {},
   "outputs": [
    {
     "data": {
      "text/plain": [
       "0         0\n",
       "1         5\n",
       "2         0\n",
       "3         2\n",
       "4         1\n",
       "5         1\n",
       "6         6\n",
       "7         5\n",
       "8         3\n",
       "9         6\n",
       "10        5\n",
       "11        4\n",
       "12        0\n",
       "13        1\n",
       "14        0\n",
       "15        5\n",
       "16        1\n",
       "17        1\n",
       "18        6\n",
       "19        4\n",
       "20        5\n",
       "21        4\n",
       "22        2\n",
       "23        1\n",
       "24        2\n",
       "25        1\n",
       "26        1\n",
       "27        6\n",
       "28        1\n",
       "29        0\n",
       "         ..\n",
       "194051    4\n",
       "194052    4\n",
       "194053    3\n",
       "194054    6\n",
       "194055    5\n",
       "194056    3\n",
       "194057    2\n",
       "194058    4\n",
       "194059    5\n",
       "194060    4\n",
       "194061    1\n",
       "194062    0\n",
       "194063    1\n",
       "194064    3\n",
       "194065    4\n",
       "194066    3\n",
       "194067    4\n",
       "194068    3\n",
       "194069    6\n",
       "194070    3\n",
       "194071    4\n",
       "194072    5\n",
       "194073    3\n",
       "194074    2\n",
       "194075    1\n",
       "194076    3\n",
       "194077    4\n",
       "194078    6\n",
       "194079    1\n",
       "194080    2\n",
       "Name: accepted_at, Length: 194081, dtype: int64"
      ]
     },
     "execution_count": 122,
     "metadata": {},
     "output_type": "execute_result"
    }
   ],
   "source": [
    "df_event_wide['accepted_at'].dt.dayofweek"
   ]
  },
  {
   "cell_type": "code",
   "execution_count": null,
   "metadata": {},
   "outputs": [],
   "source": []
  }
 ],
 "metadata": {
  "kernelspec": {
   "display_name": "Python 3",
   "language": "python",
   "name": "python3"
  },
  "language_info": {
   "codemirror_mode": {
    "name": "ipython",
    "version": 3
   },
   "file_extension": ".py",
   "mimetype": "text/x-python",
   "name": "python",
   "nbconvert_exporter": "python",
   "pygments_lexer": "ipython3",
   "version": "3.6.7"
  }
 },
 "nbformat": 4,
 "nbformat_minor": 2
}
